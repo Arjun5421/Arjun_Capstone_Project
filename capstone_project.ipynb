{
  "nbformat": 4,
  "nbformat_minor": 0,
  "metadata": {
    "colab": {
      "provenance": []
    },
    "kernelspec": {
      "name": "python3",
      "display_name": "Python 3"
    },
    "language_info": {
      "name": "python"
    }
  },
  "cells": [
    {
      "cell_type": "code",
      "execution_count": null,
      "metadata": {
        "id": "gjEPdJNufBFX"
      },
      "outputs": [],
      "source": [
        "!pip install openai\n",
        "\n",
        "import openai\n",
        "\n",
        "import os\n",
        "\n",
        "\n",
        "# enter your api key to make chatbot access gpt 3.5\n",
        "\n",
        "api_key = input(\"Please enter your OpenAI API key: \")\n",
        "\n",
        "openai.api_key = api_key\n",
        "\n",
        "\n",
        "def generate_response(prompt):\n",
        "\n",
        "    try:\n",
        "\n",
        "        response = openai.Completion.create(\n",
        "\n",
        "            engine=\"gpt-3.5-turbo\",  # Using the GPT-3.5 model\n",
        "\n",
        "            prompt=prompt,\n",
        "\n",
        "            max_tokens=50,  # capping the token usage\n",
        "\n",
        "            temperature=0.5,\n",
        "\n",
        "            n=1,  # Number of responses to generate per prompt\n",
        "\n",
        "            stop=None\n",
        "\n",
        "        )\n",
        "\n",
        "        return response.choices[0].text.strip()\n",
        "\n",
        "    except Exception as e:\n",
        "\n",
        "        return f\"An error occurred: {str(e)}\"\n",
        "\n",
        "\n",
        "\n",
        "\n",
        "def main():\n",
        "\n",
        "    print(\"Welcome to Customer Support Chatbot!\")\n",
        "\n",
        "    while True:\n",
        "\n",
        "        user_input = input(\"You: \")\n",
        "\n",
        "        if user_input.lower() in [\"exit\", \"quit\", \"bye\"]:\n",
        "\n",
        "            print(\"Chatbot: Thank you for using our support. Have a great day!\")\n",
        "\n",
        "            break\n",
        "\n",
        "        prompt = f\"Customer inquiry: {user_input}\\nChatbot response:\"\n",
        "\n",
        "        response = generate_response(prompt)\n",
        "\n",
        "        print(f\"Chatbot: {response}\")\n",
        "\n",
        "if __name__ == \"__main__\":\n",
        "\n",
        "    main()"
      ]
    }
  ]
}